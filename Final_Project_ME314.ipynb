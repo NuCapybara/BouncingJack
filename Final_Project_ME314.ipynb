{
  "nbformat": 4,
  "nbformat_minor": 0,
  "metadata": {
    "colab": {
      "provenance": [],
      "authorship_tag": "ABX9TyNSRPtGzbX8hcLZInJ0gAnx",
      "include_colab_link": true
    },
    "kernelspec": {
      "name": "python3",
      "display_name": "Python 3"
    },
    "language_info": {
      "name": "python"
    }
  },
  "cells": [
    {
      "cell_type": "markdown",
      "metadata": {
        "id": "view-in-github",
        "colab_type": "text"
      },
      "source": [
        "<a href=\"https://colab.research.google.com/github/NuCapybara/BouncingJack/blob/main/Final_Project_ME314.ipynb\" target=\"_parent\"><img src=\"https://colab.research.google.com/assets/colab-badge.svg\" alt=\"Open In Colab\"/></a>"
      ]
    },
    {
      "cell_type": "code",
      "execution_count": null,
      "metadata": {
        "id": "bEMOqmlAVc6m"
      },
      "outputs": [],
      "source": [
        "## HELPER FUNCTIONS\n",
        "def hat(omg):\n",
        "    \"\"\"Converts a 3-vector to an so(3) representation\n",
        "\n",
        "    :param omg: A 3-vector\n",
        "    :return: The skew symmetric representation of omg\n",
        "\n",
        "    Example Input:\n",
        "        omg = np.array([1, 2, 3])\n",
        "    Output:\n",
        "        np.array([[ 0, -3,  2],\n",
        "                  [ 3,  0, -1],\n",
        "                  [-2,  1,  0]])\n",
        "    \"\"\"\n",
        "    return sym.Matrix([[0,      -omg[2],  omg[1]],\n",
        "                     [omg[2],       0, -omg[0]],\n",
        "                     [-omg[1], omg[0],       0]])\n",
        "\n",
        "def unhat(mat):\n",
        "    \"\"\"Converts an SE(3) representation to a 6-vector\n",
        "    \"\"\"\n",
        "    return sym.Matrix([mat[0, 3], mat[1, 3], mat[2, 3], mat[2, 1], mat[0, 2], mat[1, 0]])\n",
        "\n",
        "def SE3generator_np(x, y, theta):\n",
        "    \"\"\"\n",
        "    This function return SE(3) given x, y, theta\n",
        "    \"\"\"\n",
        "    return np.array([[np.cos(theta), -np.sin(theta), 0, x],\n",
        "                     [np.sin(theta),  np.cos(theta), 0, y],\n",
        "                     [            0,              0, 1, 0],\n",
        "                     [            0,              0, 0, 1]])\n",
        "\n",
        "\n",
        "def SE3generator_sym(x, y, theta):\n",
        "  \"\"\"\n",
        "  This function return SE(3) given x, y, theta\n",
        "  \"\"\"\n",
        "  return sym.Matrix([[sym.cos(theta), -sym.sin(theta), 0, x],\n",
        "                    [sym.sin(theta),  sym.cos(theta), 0, y],\n",
        "                    [            0,              0, 1, 0],\n",
        "                    [            0,              0, 0, 1]])\n",
        "\n",
        "def mat_inverse(g):\n",
        "    R_inv = g[:3, :3].T\n",
        "    p_inv = -R_inv * g[:3, 3]\n",
        "    return sym.Matrix([[R_inv[0, 0], R_inv[0, 1], R_inv[0, 2], p_inv[0]],\n",
        "                   [R_inv[1, 0], R_inv[1, 1], R_inv[1, 2], p_inv[1]],\n",
        "                   [R_inv[2, 0], R_inv[2, 1], R_inv[2, 2], p_inv[2]],\n",
        "                   [0, 0, 0, 1]])"
      ]
    },
    {
      "cell_type": "code",
      "source": [
        "import sympy as sym\n",
        "import numpy as np\n",
        "#DEFINE Mg for frame"
      ],
      "metadata": {
        "id": "29RPq0P0YBhJ"
      },
      "execution_count": null,
      "outputs": []
    },
    {
      "cell_type": "code",
      "source": [
        "#define variables\n",
        "t = sym.symbols('t')\n",
        "\n",
        "#physical property\n",
        "frame_l = 4\n",
        "j_l = 1\n",
        "m_j_point = 1\n",
        "Mf = 20\n",
        "gravity = 9.8\n",
        "\n",
        "#q defination\n",
        "x_f = sym.Function('x_f')(t)\n",
        "y_f = sym.Function('y_f')(t)\n",
        "x_fdot = x_f.diff(t)\n",
        "y_fdot = y_f.diff(t)\n",
        "x_fddot = x_fdot.diff(t)\n",
        "y_fddot = y_fdot.diff(t)\n",
        "theta_f= sym.Function('θ_f')(t)\n",
        "theta_fdot = theta_f.diff(t)\n",
        "theta_fddot = theta_fdot.diff(t)\n",
        "\n",
        "x_j = sym.Function('x_j')(t)\n",
        "y_j = sym.Function('y_j')(t)\n",
        "x_jdot = x_j.diff(t)\n",
        "y_jdot = y_j.diff(t)\n",
        "x_jddot = x_jdot.diff(t)\n",
        "y_jddot = y_jdot.diff(t)\n",
        "theta_j = sym.Function('θ_j')(t)\n",
        "theta_jdot = theta_j.diff(t)\n",
        "theta_jddot = theta_jdot.diff(t)\n",
        "\n",
        "#define the frames of jack\n",
        "g_wj = SE3generator_sym(x_j, y_j, theta_j)\n",
        "g_jb = SE3generator_sym(j_l, 0, 0)\n",
        "g_ja = SE3generator_sym(0, j_l, 0)\n",
        "g_jc = SE3generator_sym(0, -j_l, 0)\n",
        "g_jd = SE3generator_sym(-j_l, 0, 0)\n",
        "\n",
        "g_wb = sym.simplify(g_wj * g_jb)\n",
        "g_wa = sym.simplify(g_wj * g_ja)\n",
        "g_wc = sym.simplify(g_wj * g_jc)\n",
        "g_wd = sym.simplify(g_wj * g_jd)\n",
        "\n",
        "#define the frame of the world\n",
        "g_wf = SE3generator_sym(x_f, y_f, theta_f)\n",
        "g_f6 = SE3generator_sym(frame_l/2, 0, 0)\n",
        "g_f7 = SE3generator_sym(0, frame_l/2, 0)\n",
        "g_f8 = SE3generator_sym(0, -frame_l/2, 0)\n",
        "g_f9 = SE3generator_sym(-frame_l/2, 0, 0)\n",
        "\n",
        "g_w6 = sym.simplify(g_wf * g_f6)\n",
        "g_w7 = sym.simplify(g_wf * g_f7)\n",
        "g_w8 = sym.simplify(g_wf * g_f8)\n",
        "g_w9 = sym.simplify(g_wf * g_f9)\n",
        "\n",
        "print(\"g_wf =\")\n",
        "display(g_wf)\n",
        "print(\"g_wj =\")\n",
        "display(g_wj)"
      ],
      "metadata": {
        "id": "cS7GyPQUVwj6",
        "colab": {
          "base_uri": "https://localhost:8080/",
          "height": 216
        },
        "outputId": "bae9ec9e-f70c-4396-e62f-addad360e798"
      },
      "execution_count": null,
      "outputs": [
        {
          "output_type": "stream",
          "name": "stdout",
          "text": [
            "g_wf =\n"
          ]
        },
        {
          "output_type": "display_data",
          "data": {
            "text/plain": [
              "Matrix([\n",
              "[cos(θ_f(t)), -sin(θ_f(t)), 0, x_f(t)],\n",
              "[sin(θ_f(t)),  cos(θ_f(t)), 0, y_f(t)],\n",
              "[          0,            0, 1,      0],\n",
              "[          0,            0, 0,      1]])"
            ],
            "text/latex": "$\\displaystyle \\left[\\begin{matrix}\\cos{\\left(θ_{f}{\\left(t \\right)} \\right)} & - \\sin{\\left(θ_{f}{\\left(t \\right)} \\right)} & 0 & x_{f}{\\left(t \\right)}\\\\\\sin{\\left(θ_{f}{\\left(t \\right)} \\right)} & \\cos{\\left(θ_{f}{\\left(t \\right)} \\right)} & 0 & y_{f}{\\left(t \\right)}\\\\0 & 0 & 1 & 0\\\\0 & 0 & 0 & 1\\end{matrix}\\right]$"
          },
          "metadata": {}
        },
        {
          "output_type": "stream",
          "name": "stdout",
          "text": [
            "g_wj =\n"
          ]
        },
        {
          "output_type": "display_data",
          "data": {
            "text/plain": [
              "Matrix([\n",
              "[cos(θ_j(t)), -sin(θ_j(t)), 0, x_j(t)],\n",
              "[sin(θ_j(t)),  cos(θ_j(t)), 0, y_j(t)],\n",
              "[          0,            0, 1,      0],\n",
              "[          0,            0, 0,      1]])"
            ],
            "text/latex": "$\\displaystyle \\left[\\begin{matrix}\\cos{\\left(θ_{j}{\\left(t \\right)} \\right)} & - \\sin{\\left(θ_{j}{\\left(t \\right)} \\right)} & 0 & x_{j}{\\left(t \\right)}\\\\\\sin{\\left(θ_{j}{\\left(t \\right)} \\right)} & \\cos{\\left(θ_{j}{\\left(t \\right)} \\right)} & 0 & y_{j}{\\left(t \\right)}\\\\0 & 0 & 1 & 0\\\\0 & 0 & 0 & 1\\end{matrix}\\right]$"
          },
          "metadata": {}
        }
      ]
    },
    {
      "cell_type": "code",
      "source": [
        "### Inertia value of Jack and Frame\n",
        "J_jack = 0\n",
        "J_frame = 2\n",
        "\n",
        "### Velocity & Inertia\n",
        "  # Jack four point velocity\n",
        "v_wa = sym.simplify(unhat(mat_inverse(g_wa)*g_wa.diff(t)))\n",
        "v_wb = sym.simplify(unhat(mat_inverse(g_wb)*g_wb.diff(t)))\n",
        "v_wc = sym.simplify(unhat(mat_inverse(g_wc)*g_wc.diff(t)))\n",
        "v_wd = sym.simplify(unhat(mat_inverse(g_wd)*g_wd.diff(t)))\n",
        "\n",
        "\n",
        "  # Frame four point velocity\n",
        "v_wf = sym.simplify(unhat(mat_inverse(g_wf)*g_wf.diff(t)))\n",
        "v_w6 = sym.simplify(unhat(mat_inverse(g_w6)*g_w6.diff(t)))\n",
        "v_w7 = sym.simplify(unhat(mat_inverse(g_w7)*g_w7.diff(t)))\n",
        "v_w8 = sym.simplify(unhat(mat_inverse(g_w8)*g_w8.diff(t)))\n",
        "v_w9 = sym.simplify(unhat(mat_inverse(g_w9)*g_w9.diff(t)))\n",
        "\n",
        "  #Inertia frame\n",
        "Inertia_frame_mat = sym.diag(Mf, Mf, Mf, 0, 0, J_frame)\n",
        "Inertia_jack_mat = sym.diag(m_j_point, m_j_point, m_j_point, 0, 0, J_jack)\n",
        "\n",
        "\n",
        "#Kinetic Energy and Potential Energy\n",
        "  #frame kinetic energy\n",
        "KE_frame = sym.simplify(0.5*(v_wf).T*Inertia_frame_mat*v_wf)\n",
        "  #jack kinetic energy\n",
        "KE_vwa = sym.simplify(0.5*(v_wa).T*Inertia_jack_mat*v_wa)\n",
        "KE_vwb = sym.simplify(0.5*(v_wb).T*Inertia_jack_mat*v_wb)\n",
        "KE_vwc = sym.simplify(0.5*(v_wc).T*Inertia_jack_mat*v_wc)\n",
        "KE_vwd = sym.simplify(0.5*(v_wd).T*Inertia_jack_mat*v_wd)\n",
        "print(\"-------------------------------------------------------------------\")\n",
        "display(KE_frame)\n",
        "display(KE_vwa)\n",
        "display(KE_vwb)\n",
        "display(KE_vwc)\n",
        "display(KE_vwd)\n",
        "print(\"----------------------------------------------------------gwa gwb gwc gwd\")\n",
        "display(g_wa)\n",
        "display(g_wb)\n",
        "display(g_wc)\n",
        "display(g_wd)\n",
        "print(\"-------------------------------------------------------------------\")\n",
        "KE_jack = sym.simplify(KE_vwa + KE_vwb + KE_vwc + KE_vwd)\n",
        "\n",
        "KE_total = sym.simplify(KE_jack+ KE_frame)\n",
        "print(\"KE =\")\n",
        "display(KE_total)\n",
        "hf = sym.simplify(sym.Matrix([g_wf[1,3]]))\n",
        "h_wa = sym.simplify(sym.Matrix([g_wa[1,3]]))\n",
        "h_wb = sym.simplify(sym.Matrix([g_wb[1,3]]))\n",
        "h_wc = sym.simplify(sym.Matrix([g_wc[1,3]]))\n",
        "h_wd = sym.simplify(sym.Matrix([g_wd[1,3]]))\n",
        "\n",
        "V_f = Mf*gravity*hf[0]\n",
        "V_wa =  m_j_point*gravity*h_wa[0]\n",
        "V_wb =  m_j_point*gravity*h_wb[0]\n",
        "V_wc =  m_j_point*gravity*h_wc[0]\n",
        "V_wd =  m_j_point*gravity*h_wd[0]\n",
        "\n",
        "V_total = sym.simplify(sym.Matrix([V_f + V_wa + V_wb + V_wc + V_wd]))\n",
        "print(\"V =\")\n",
        "display(V_total)\n",
        "\n",
        "\n"
      ],
      "metadata": {
        "colab": {
          "base_uri": "https://localhost:8080/",
          "height": 639
        },
        "id": "qlzz_sAgbiIP",
        "outputId": "7f330e09-02cd-4e2c-9e0c-66f0c9f61651"
      },
      "execution_count": null,
      "outputs": [
        {
          "output_type": "stream",
          "name": "stdout",
          "text": [
            "-------------------------------------------------------------------\n"
          ]
        },
        {
          "output_type": "display_data",
          "data": {
            "text/plain": [
              "Matrix([[10.0*Derivative(x_f(t), t)**2 + 10.0*Derivative(y_f(t), t)**2 + 1.0*Derivative(θ_f(t), t)**2]])"
            ],
            "text/latex": "$\\displaystyle \\left[\\begin{matrix}10.0 \\left(\\frac{d}{d t} x_{f}{\\left(t \\right)}\\right)^{2} + 10.0 \\left(\\frac{d}{d t} y_{f}{\\left(t \\right)}\\right)^{2} + 1.0 \\left(\\frac{d}{d t} θ_{f}{\\left(t \\right)}\\right)^{2}\\end{matrix}\\right]$"
          },
          "metadata": {}
        },
        {
          "output_type": "display_data",
          "data": {
            "text/plain": [
              "Matrix([[-1.0*sin(θ_j(t))*Derivative(y_j(t), t)*Derivative(θ_j(t), t) - 1.0*cos(θ_j(t))*Derivative(x_j(t), t)*Derivative(θ_j(t), t) + 0.5*Derivative(x_j(t), t)**2 + 0.5*Derivative(y_j(t), t)**2 + 0.5*Derivative(θ_j(t), t)**2]])"
            ],
            "text/latex": "$\\displaystyle \\left[\\begin{matrix}- 1.0 \\sin{\\left(θ_{j}{\\left(t \\right)} \\right)} \\frac{d}{d t} y_{j}{\\left(t \\right)} \\frac{d}{d t} θ_{j}{\\left(t \\right)} - 1.0 \\cos{\\left(θ_{j}{\\left(t \\right)} \\right)} \\frac{d}{d t} x_{j}{\\left(t \\right)} \\frac{d}{d t} θ_{j}{\\left(t \\right)} + 0.5 \\left(\\frac{d}{d t} x_{j}{\\left(t \\right)}\\right)^{2} + 0.5 \\left(\\frac{d}{d t} y_{j}{\\left(t \\right)}\\right)^{2} + 0.5 \\left(\\frac{d}{d t} θ_{j}{\\left(t \\right)}\\right)^{2}\\end{matrix}\\right]$"
          },
          "metadata": {}
        },
        {
          "output_type": "display_data",
          "data": {
            "text/plain": [
              "Matrix([[-1.0*sin(θ_j(t))*Derivative(x_j(t), t)*Derivative(θ_j(t), t) + 1.0*cos(θ_j(t))*Derivative(y_j(t), t)*Derivative(θ_j(t), t) + 0.5*Derivative(x_j(t), t)**2 + 0.5*Derivative(y_j(t), t)**2 + 0.5*Derivative(θ_j(t), t)**2]])"
            ],
            "text/latex": "$\\displaystyle \\left[\\begin{matrix}- 1.0 \\sin{\\left(θ_{j}{\\left(t \\right)} \\right)} \\frac{d}{d t} x_{j}{\\left(t \\right)} \\frac{d}{d t} θ_{j}{\\left(t \\right)} + 1.0 \\cos{\\left(θ_{j}{\\left(t \\right)} \\right)} \\frac{d}{d t} y_{j}{\\left(t \\right)} \\frac{d}{d t} θ_{j}{\\left(t \\right)} + 0.5 \\left(\\frac{d}{d t} x_{j}{\\left(t \\right)}\\right)^{2} + 0.5 \\left(\\frac{d}{d t} y_{j}{\\left(t \\right)}\\right)^{2} + 0.5 \\left(\\frac{d}{d t} θ_{j}{\\left(t \\right)}\\right)^{2}\\end{matrix}\\right]$"
          },
          "metadata": {}
        },
        {
          "output_type": "display_data",
          "data": {
            "text/plain": [
              "Matrix([[1.0*sin(θ_j(t))*Derivative(y_j(t), t)*Derivative(θ_j(t), t) + 1.0*cos(θ_j(t))*Derivative(x_j(t), t)*Derivative(θ_j(t), t) + 0.5*Derivative(x_j(t), t)**2 + 0.5*Derivative(y_j(t), t)**2 + 0.5*Derivative(θ_j(t), t)**2]])"
            ],
            "text/latex": "$\\displaystyle \\left[\\begin{matrix}1.0 \\sin{\\left(θ_{j}{\\left(t \\right)} \\right)} \\frac{d}{d t} y_{j}{\\left(t \\right)} \\frac{d}{d t} θ_{j}{\\left(t \\right)} + 1.0 \\cos{\\left(θ_{j}{\\left(t \\right)} \\right)} \\frac{d}{d t} x_{j}{\\left(t \\right)} \\frac{d}{d t} θ_{j}{\\left(t \\right)} + 0.5 \\left(\\frac{d}{d t} x_{j}{\\left(t \\right)}\\right)^{2} + 0.5 \\left(\\frac{d}{d t} y_{j}{\\left(t \\right)}\\right)^{2} + 0.5 \\left(\\frac{d}{d t} θ_{j}{\\left(t \\right)}\\right)^{2}\\end{matrix}\\right]$"
          },
          "metadata": {}
        },
        {
          "output_type": "display_data",
          "data": {
            "text/plain": [
              "Matrix([[1.0*sin(θ_j(t))*Derivative(x_j(t), t)*Derivative(θ_j(t), t) - 1.0*cos(θ_j(t))*Derivative(y_j(t), t)*Derivative(θ_j(t), t) + 0.5*Derivative(x_j(t), t)**2 + 0.5*Derivative(y_j(t), t)**2 + 0.5*Derivative(θ_j(t), t)**2]])"
            ],
            "text/latex": "$\\displaystyle \\left[\\begin{matrix}1.0 \\sin{\\left(θ_{j}{\\left(t \\right)} \\right)} \\frac{d}{d t} x_{j}{\\left(t \\right)} \\frac{d}{d t} θ_{j}{\\left(t \\right)} - 1.0 \\cos{\\left(θ_{j}{\\left(t \\right)} \\right)} \\frac{d}{d t} y_{j}{\\left(t \\right)} \\frac{d}{d t} θ_{j}{\\left(t \\right)} + 0.5 \\left(\\frac{d}{d t} x_{j}{\\left(t \\right)}\\right)^{2} + 0.5 \\left(\\frac{d}{d t} y_{j}{\\left(t \\right)}\\right)^{2} + 0.5 \\left(\\frac{d}{d t} θ_{j}{\\left(t \\right)}\\right)^{2}\\end{matrix}\\right]$"
          },
          "metadata": {}
        },
        {
          "output_type": "stream",
          "name": "stdout",
          "text": [
            "----------------------------------------------------------gwa gwb gwc gwd\n"
          ]
        },
        {
          "output_type": "display_data",
          "data": {
            "text/plain": [
              "Matrix([\n",
              "[cos(θ_j(t)), -sin(θ_j(t)), 0, x_j(t) - sin(θ_j(t))],\n",
              "[sin(θ_j(t)),  cos(θ_j(t)), 0, y_j(t) + cos(θ_j(t))],\n",
              "[          0,            0, 1,                    0],\n",
              "[          0,            0, 0,                    1]])"
            ],
            "text/latex": "$\\displaystyle \\left[\\begin{matrix}\\cos{\\left(θ_{j}{\\left(t \\right)} \\right)} & - \\sin{\\left(θ_{j}{\\left(t \\right)} \\right)} & 0 & x_{j}{\\left(t \\right)} - \\sin{\\left(θ_{j}{\\left(t \\right)} \\right)}\\\\\\sin{\\left(θ_{j}{\\left(t \\right)} \\right)} & \\cos{\\left(θ_{j}{\\left(t \\right)} \\right)} & 0 & y_{j}{\\left(t \\right)} + \\cos{\\left(θ_{j}{\\left(t \\right)} \\right)}\\\\0 & 0 & 1 & 0\\\\0 & 0 & 0 & 1\\end{matrix}\\right]$"
          },
          "metadata": {}
        },
        {
          "output_type": "display_data",
          "data": {
            "text/plain": [
              "Matrix([\n",
              "[cos(θ_j(t)), -sin(θ_j(t)), 0, x_j(t) + cos(θ_j(t))],\n",
              "[sin(θ_j(t)),  cos(θ_j(t)), 0, y_j(t) + sin(θ_j(t))],\n",
              "[          0,            0, 1,                    0],\n",
              "[          0,            0, 0,                    1]])"
            ],
            "text/latex": "$\\displaystyle \\left[\\begin{matrix}\\cos{\\left(θ_{j}{\\left(t \\right)} \\right)} & - \\sin{\\left(θ_{j}{\\left(t \\right)} \\right)} & 0 & x_{j}{\\left(t \\right)} + \\cos{\\left(θ_{j}{\\left(t \\right)} \\right)}\\\\\\sin{\\left(θ_{j}{\\left(t \\right)} \\right)} & \\cos{\\left(θ_{j}{\\left(t \\right)} \\right)} & 0 & y_{j}{\\left(t \\right)} + \\sin{\\left(θ_{j}{\\left(t \\right)} \\right)}\\\\0 & 0 & 1 & 0\\\\0 & 0 & 0 & 1\\end{matrix}\\right]$"
          },
          "metadata": {}
        },
        {
          "output_type": "display_data",
          "data": {
            "text/plain": [
              "Matrix([\n",
              "[cos(θ_j(t)), -sin(θ_j(t)), 0, x_j(t) + sin(θ_j(t))],\n",
              "[sin(θ_j(t)),  cos(θ_j(t)), 0, y_j(t) - cos(θ_j(t))],\n",
              "[          0,            0, 1,                    0],\n",
              "[          0,            0, 0,                    1]])"
            ],
            "text/latex": "$\\displaystyle \\left[\\begin{matrix}\\cos{\\left(θ_{j}{\\left(t \\right)} \\right)} & - \\sin{\\left(θ_{j}{\\left(t \\right)} \\right)} & 0 & x_{j}{\\left(t \\right)} + \\sin{\\left(θ_{j}{\\left(t \\right)} \\right)}\\\\\\sin{\\left(θ_{j}{\\left(t \\right)} \\right)} & \\cos{\\left(θ_{j}{\\left(t \\right)} \\right)} & 0 & y_{j}{\\left(t \\right)} - \\cos{\\left(θ_{j}{\\left(t \\right)} \\right)}\\\\0 & 0 & 1 & 0\\\\0 & 0 & 0 & 1\\end{matrix}\\right]$"
          },
          "metadata": {}
        },
        {
          "output_type": "display_data",
          "data": {
            "text/plain": [
              "Matrix([\n",
              "[cos(θ_j(t)), -sin(θ_j(t)), 0, x_j(t) - cos(θ_j(t))],\n",
              "[sin(θ_j(t)),  cos(θ_j(t)), 0, y_j(t) - sin(θ_j(t))],\n",
              "[          0,            0, 1,                    0],\n",
              "[          0,            0, 0,                    1]])"
            ],
            "text/latex": "$\\displaystyle \\left[\\begin{matrix}\\cos{\\left(θ_{j}{\\left(t \\right)} \\right)} & - \\sin{\\left(θ_{j}{\\left(t \\right)} \\right)} & 0 & x_{j}{\\left(t \\right)} - \\cos{\\left(θ_{j}{\\left(t \\right)} \\right)}\\\\\\sin{\\left(θ_{j}{\\left(t \\right)} \\right)} & \\cos{\\left(θ_{j}{\\left(t \\right)} \\right)} & 0 & y_{j}{\\left(t \\right)} - \\sin{\\left(θ_{j}{\\left(t \\right)} \\right)}\\\\0 & 0 & 1 & 0\\\\0 & 0 & 0 & 1\\end{matrix}\\right]$"
          },
          "metadata": {}
        },
        {
          "output_type": "stream",
          "name": "stdout",
          "text": [
            "-------------------------------------------------------------------\n",
            "KE =\n"
          ]
        },
        {
          "output_type": "display_data",
          "data": {
            "text/plain": [
              "Matrix([[10.0*Derivative(x_f(t), t)**2 + 2.0*Derivative(x_j(t), t)**2 + 10.0*Derivative(y_f(t), t)**2 + 2.0*Derivative(y_j(t), t)**2 + 1.0*Derivative(θ_f(t), t)**2 + 2.0*Derivative(θ_j(t), t)**2]])"
            ],
            "text/latex": "$\\displaystyle \\left[\\begin{matrix}10.0 \\left(\\frac{d}{d t} x_{f}{\\left(t \\right)}\\right)^{2} + 2.0 \\left(\\frac{d}{d t} x_{j}{\\left(t \\right)}\\right)^{2} + 10.0 \\left(\\frac{d}{d t} y_{f}{\\left(t \\right)}\\right)^{2} + 2.0 \\left(\\frac{d}{d t} y_{j}{\\left(t \\right)}\\right)^{2} + 1.0 \\left(\\frac{d}{d t} θ_{f}{\\left(t \\right)}\\right)^{2} + 2.0 \\left(\\frac{d}{d t} θ_{j}{\\left(t \\right)}\\right)^{2}\\end{matrix}\\right]$"
          },
          "metadata": {}
        },
        {
          "output_type": "stream",
          "name": "stdout",
          "text": [
            "V =\n"
          ]
        },
        {
          "output_type": "display_data",
          "data": {
            "text/plain": [
              "Matrix([[196.0*y_f(t) + 39.2*y_j(t)]])"
            ],
            "text/latex": "$\\displaystyle \\left[\\begin{matrix}196.0 y_{f}{\\left(t \\right)} + 39.2 y_{j}{\\left(t \\right)}\\end{matrix}\\right]$"
          },
          "metadata": {}
        }
      ]
    },
    {
      "cell_type": "code",
      "source": [
        "#Lagrangian Equation\n",
        "L_eq = sym.simplify(KE_total - V_total)\n",
        "print(\"The Lagrangian equation is\")\n",
        "lhs = L_eq[0]\n",
        "rhs = 0\n",
        "equ = sym.Eq(lhs, rhs)\n",
        "display(equ)\n",
        "\n",
        "#Euler Lagrangian, rhs is the upward force\n",
        "Force = Mf * gravity\n",
        "jack_torque = 0\n",
        "Force_Matrix = sym.Matrix([0, Force, 0, 0, 0, jack_torque])\n",
        "\n",
        "q = sym.Matrix([x_f, y_f, theta_f, x_j, y_j, theta_j])\n",
        "qdot = sym.simplify(q.diff(t))\n",
        "qddot = sym.simplify(qdot.diff(t))\n",
        "\n",
        "dLdqdot = sym.simplify(sym.Matrix([L_eq]).jacobian(qdot).T)\n",
        "dLdqdot_dt = sym.simplify(dLdqdot.diff(t))\n",
        "dLdq = sym.simplify(sym.Matrix([L_eq]).jacobian(q).T)\n",
        "EoM_lhs = sym.simplify(dLdqdot_dt - dLdq)\n",
        "EoM_rhs = Force_Matrix\n",
        "EoM= sym.Eq(EoM_lhs, EoM_rhs)\n",
        "print(\"Euler Lagrangian equation is:\")\n",
        "display(EoM)\n"
      ],
      "metadata": {
        "colab": {
          "base_uri": "https://localhost:8080/",
          "height": 238
        },
        "id": "E07XBAfFp5qV",
        "outputId": "db66dcd6-1883-4e70-a873-239cc96a54f9"
      },
      "execution_count": null,
      "outputs": [
        {
          "output_type": "stream",
          "name": "stdout",
          "text": [
            "The Lagrangian equation is\n"
          ]
        },
        {
          "output_type": "display_data",
          "data": {
            "text/plain": [
              "Eq(-196.0*y_f(t) - 39.2*y_j(t) + 10.0*Derivative(x_f(t), t)**2 + 2.0*Derivative(x_j(t), t)**2 + 10.0*Derivative(y_f(t), t)**2 + 2.0*Derivative(y_j(t), t)**2 + 1.0*Derivative(θ_f(t), t)**2 + 2.0*Derivative(θ_j(t), t)**2, 0)"
            ],
            "text/latex": "$\\displaystyle - 196.0 y_{f}{\\left(t \\right)} - 39.2 y_{j}{\\left(t \\right)} + 10.0 \\left(\\frac{d}{d t} x_{f}{\\left(t \\right)}\\right)^{2} + 2.0 \\left(\\frac{d}{d t} x_{j}{\\left(t \\right)}\\right)^{2} + 10.0 \\left(\\frac{d}{d t} y_{f}{\\left(t \\right)}\\right)^{2} + 2.0 \\left(\\frac{d}{d t} y_{j}{\\left(t \\right)}\\right)^{2} + 1.0 \\left(\\frac{d}{d t} θ_{f}{\\left(t \\right)}\\right)^{2} + 2.0 \\left(\\frac{d}{d t} θ_{j}{\\left(t \\right)}\\right)^{2} = 0$"
          },
          "metadata": {}
        },
        {
          "output_type": "stream",
          "name": "stdout",
          "text": [
            "Euler Lagrangian equation is:\n"
          ]
        },
        {
          "output_type": "display_data",
          "data": {
            "text/plain": [
              "Eq(Matrix([\n",
              "[        20.0*Derivative(x_f(t), (t, 2))],\n",
              "[20.0*Derivative(y_f(t), (t, 2)) + 196.0],\n",
              "[         2.0*Derivative(θ_f(t), (t, 2))],\n",
              "[         4.0*Derivative(x_j(t), (t, 2))],\n",
              "[  4.0*Derivative(y_j(t), (t, 2)) + 39.2],\n",
              "[         4.0*Derivative(θ_j(t), (t, 2))]]), Matrix([\n",
              "[    0],\n",
              "[196.0],\n",
              "[    0],\n",
              "[    0],\n",
              "[    0],\n",
              "[    0]]))"
            ],
            "text/latex": "$\\displaystyle \\left[\\begin{matrix}20.0 \\frac{d^{2}}{d t^{2}} x_{f}{\\left(t \\right)}\\\\20.0 \\frac{d^{2}}{d t^{2}} y_{f}{\\left(t \\right)} + 196.0\\\\2.0 \\frac{d^{2}}{d t^{2}} θ_{f}{\\left(t \\right)}\\\\4.0 \\frac{d^{2}}{d t^{2}} x_{j}{\\left(t \\right)}\\\\4.0 \\frac{d^{2}}{d t^{2}} y_{j}{\\left(t \\right)} + 39.2\\\\4.0 \\frac{d^{2}}{d t^{2}} θ_{j}{\\left(t \\right)}\\end{matrix}\\right] = \\left[\\begin{matrix}0\\\\196.0\\\\0\\\\0\\\\0\\\\0\\end{matrix}\\right]$"
          },
          "metadata": {}
        }
      ]
    },
    {
      "cell_type": "code",
      "source": [
        "#Solution of Motion of Equation\n",
        "q_sol = sym.Matrix([x_fddot, y_fddot, theta_fddot, x_jddot, y_jddot, theta_jddot])\n",
        "Sol= sym.solve(EoM, q_sol, dict = True)\n",
        "list = []\n",
        "for sol in Sol:\n",
        "  #print('\\n\\033[1mTherefore Solution for the impact equation after substitution:')\n",
        "  for v in q_sol:\n",
        "    list.append(sym.N(sol[v]))\n",
        "    display(sym.Eq(v, sym.simplify(sol[v])))"
      ],
      "metadata": {
        "colab": {
          "base_uri": "https://localhost:8080/",
          "height": 238
        },
        "id": "z6aFKkV9vU2Y",
        "outputId": "daf9c414-f89b-41ad-b1de-ce4c1dc1277b"
      },
      "execution_count": null,
      "outputs": [
        {
          "output_type": "display_data",
          "data": {
            "text/plain": [
              "Eq(Derivative(x_f(t), (t, 2)), 0.0)"
            ],
            "text/latex": "$\\displaystyle \\frac{d^{2}}{d t^{2}} x_{f}{\\left(t \\right)} = 0.0$"
          },
          "metadata": {}
        },
        {
          "output_type": "display_data",
          "data": {
            "text/plain": [
              "Eq(Derivative(y_f(t), (t, 2)), 0.0)"
            ],
            "text/latex": "$\\displaystyle \\frac{d^{2}}{d t^{2}} y_{f}{\\left(t \\right)} = 0.0$"
          },
          "metadata": {}
        },
        {
          "output_type": "display_data",
          "data": {
            "text/plain": [
              "Eq(Derivative(θ_f(t), (t, 2)), 0.0)"
            ],
            "text/latex": "$\\displaystyle \\frac{d^{2}}{d t^{2}} θ_{f}{\\left(t \\right)} = 0.0$"
          },
          "metadata": {}
        },
        {
          "output_type": "display_data",
          "data": {
            "text/plain": [
              "Eq(Derivative(x_j(t), (t, 2)), 0.0)"
            ],
            "text/latex": "$\\displaystyle \\frac{d^{2}}{d t^{2}} x_{j}{\\left(t \\right)} = 0.0$"
          },
          "metadata": {}
        },
        {
          "output_type": "display_data",
          "data": {
            "text/plain": [
              "Eq(Derivative(y_j(t), (t, 2)), -9.8)"
            ],
            "text/latex": "$\\displaystyle \\frac{d^{2}}{d t^{2}} y_{j}{\\left(t \\right)} = -9.8$"
          },
          "metadata": {}
        },
        {
          "output_type": "display_data",
          "data": {
            "text/plain": [
              "Eq(Derivative(θ_j(t), (t, 2)), 0.0)"
            ],
            "text/latex": "$\\displaystyle \\frac{d^{2}}{d t^{2}} θ_{j}{\\left(t \\right)} = 0.0$"
          },
          "metadata": {}
        }
      ]
    }
  ]
}